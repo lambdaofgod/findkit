{
 "cells": [
  {
   "cell_type": "code",
   "execution_count": 1,
   "metadata": {},
   "outputs": [
    {
     "name": "stderr",
     "output_type": "stream",
     "text": [
      "Using TensorFlow backend.\n"
     ]
    }
   ],
   "source": [
    "from findkit.index import AnnoyIndex\n",
    "from findkit.feature_extractor import KerasFeatureExtractor\n",
    "\n",
    "from sklearn.preprocessing import OneHotEncoder\n",
    "\n",
    "from keras.layers import Dense, Input, Activation\n",
    "from keras.models import Model\n",
    "from keras.datasets import mnist\n",
    "\n",
    "import matplotlib.pyplot as plt\n",
    "%matplotlib inline"
   ]
  },
  {
   "cell_type": "markdown",
   "metadata": {},
   "source": [
    "### Data loading and plotting utils"
   ]
  },
  {
   "cell_type": "code",
   "execution_count": 2,
   "metadata": {},
   "outputs": [],
   "source": [
    "def plot_image(image_data):\n",
    "    plt.figure(figsize=(2,2))\n",
    "    plt.imshow(image_data, cmap='gray')\n",
    "    plt.axis('off')\n",
    "    plt.show()\n",
    "    \n",
    "    \n",
    "def images_to_vectors(images):\n",
    "    return images.reshape(images.shape[0], -1)\n",
    "\n",
    "\n",
    "def one_hot_encode_labels(train_labels, test_labels):\n",
    "    ohe = OneHotEncoder()\n",
    "    ohe_train = ohe.fit_transform(train_labels.reshape(-1, 1))\n",
    "    ohe_test = ohe.transform(test_labels.reshape(-1, 1))\n",
    "    return ohe_train, ohe_test"
   ]
  },
  {
   "cell_type": "markdown",
   "metadata": {},
   "source": [
    "### Keras model setup"
   ]
  },
  {
   "cell_type": "code",
   "execution_count": 3,
   "metadata": {},
   "outputs": [],
   "source": [
    "def setup_model(n_hidden, input_shape, n_classes, activation='sigmoid'):\n",
    "    input_tensor = Input(shape=input_shape)\n",
    "\n",
    "    hid_z = Dense(n_hidden)(input_tensor)\n",
    "    hid_a = Activation(activation)(hid_z)\n",
    "\n",
    "    softmax_in = Dense(n_classes)(hid_a)\n",
    "    mlp_model = Model(inputs=[input_tensor], outputs=[Activation('softmax')(softmax_in)])\n",
    "    mlp_model.compile(optimizer='adam', loss='categorical_crossentropy')\n",
    "    return mlp_model"
   ]
  },
  {
   "cell_type": "code",
   "execution_count": 4,
   "metadata": {},
   "outputs": [],
   "source": [
    "(X_train_images, y_train_labels), (X_test_images, y_test_labels) = mnist.load_data()\n",
    "\n",
    "X_train = images_to_vectors(X_train_images)\n",
    "X_test = images_to_vectors(X_test_images)\n",
    "\n",
    "y_train, y_test = one_hot_encode_labels(y_train_labels, y_test_labels)"
   ]
  },
  {
   "cell_type": "markdown",
   "metadata": {},
   "source": [
    "### Transformer setup"
   ]
  },
  {
   "cell_type": "code",
   "execution_count": 5,
   "metadata": {},
   "outputs": [],
   "source": [
    "n_hidden = 64 \n",
    "input_shape = (X_train.shape[1],)\n",
    "n_classes = y_train.shape[1]\n",
    "\n",
    "mlp_model = setup_model(64, input_shape, n_classes)"
   ]
  },
  {
   "cell_type": "code",
   "execution_count": 6,
   "metadata": {},
   "outputs": [
    {
     "name": "stdout",
     "output_type": "stream",
     "text": [
      "_________________________________________________________________\n",
      "Layer (type)                 Output Shape              Param #   \n",
      "=================================================================\n",
      "input_1 (InputLayer)         (None, 784)               0         \n",
      "_________________________________________________________________\n",
      "dense_1 (Dense)              (None, 64)                50240     \n",
      "_________________________________________________________________\n",
      "activation_1 (Activation)    (None, 64)                0         \n",
      "_________________________________________________________________\n",
      "dense_2 (Dense)              (None, 10)                650       \n",
      "_________________________________________________________________\n",
      "activation_2 (Activation)    (None, 10)                0         \n",
      "=================================================================\n",
      "Total params: 50,890\n",
      "Trainable params: 50,890\n",
      "Non-trainable params: 0\n",
      "_________________________________________________________________\n"
     ]
    }
   ],
   "source": [
    "mlp_model.summary()"
   ]
  },
  {
   "cell_type": "code",
   "execution_count": 7,
   "metadata": {},
   "outputs": [
    {
     "name": "stdout",
     "output_type": "stream",
     "text": [
      "Train on 60000 samples, validate on 10000 samples\n",
      "Epoch 1/10\n",
      " - 4s - loss: 0.6764 - val_loss: 0.3958\n",
      "Epoch 2/10\n",
      " - 4s - loss: 0.3870 - val_loss: 0.3448\n",
      "Epoch 3/10\n",
      " - 5s - loss: 0.3337 - val_loss: 0.3183\n",
      "Epoch 4/10\n",
      " - 5s - loss: 0.3157 - val_loss: 0.3106\n",
      "Epoch 5/10\n",
      " - 4s - loss: 0.3045 - val_loss: 0.3043\n",
      "Epoch 6/10\n",
      " - 4s - loss: 0.2949 - val_loss: 0.2909\n",
      "Epoch 7/10\n",
      " - 5s - loss: 0.2879 - val_loss: 0.2835\n",
      "Epoch 8/10\n",
      " - 5s - loss: 0.2877 - val_loss: 0.2864\n",
      "Epoch 9/10\n",
      " - 5s - loss: 0.2817 - val_loss: 0.2858\n",
      "Epoch 10/10\n",
      " - 5s - loss: 0.2703 - val_loss: 0.2695\n"
     ]
    }
   ],
   "source": [
    "mlp_fit_history = mlp_model.fit(\n",
    "    X_train, y_train,\n",
    "    validation_data=(X_test, y_test),\n",
    "    epochs=10,\n",
    "    batch_size=64,\n",
    "    verbose=2\n",
    ")"
   ]
  },
  {
   "cell_type": "markdown",
   "metadata": {},
   "source": [
    "### Setup feature extractor from transformer"
   ]
  },
  {
   "cell_type": "code",
   "execution_count": 8,
   "metadata": {},
   "outputs": [],
   "source": [
    "feature_extractor = KerasFeatureExtractor(mlp_model, 'activation_1')"
   ]
  },
  {
   "cell_type": "code",
   "execution_count": 9,
   "metadata": {},
   "outputs": [],
   "source": [
    "mlp_features = feature_extractor.extract_features(X_test)"
   ]
  },
  {
   "cell_type": "markdown",
   "metadata": {},
   "source": [
    "### Setup index"
   ]
  },
  {
   "cell_type": "code",
   "execution_count": 10,
   "metadata": {},
   "outputs": [],
   "source": [
    "index = AnnoyIndex(mlp_features, n_trees=10, metric='euclidean')"
   ]
  },
  {
   "cell_type": "markdown",
   "metadata": {},
   "source": [
    "### Nearest neighbor query"
   ]
  },
  {
   "cell_type": "code",
   "execution_count": 11,
   "metadata": {},
   "outputs": [],
   "source": [
    "query_example_index = 0\n",
    "query_example = mlp_features[query_example_index]\n",
    "n_neighbors = 10"
   ]
  },
  {
   "cell_type": "code",
   "execution_count": 12,
   "metadata": {},
   "outputs": [],
   "source": [
    "neighbor_indices, neighbor_distances = index.find_similar(query_example, n_neighbors+1)"
   ]
  },
  {
   "cell_type": "code",
   "execution_count": 13,
   "metadata": {
    "scrolled": false
   },
   "outputs": [
    {
     "name": "stdout",
     "output_type": "stream",
     "text": [
      "Queried example\n"
     ]
    },
    {
     "data": {
      "image/png": "[encoded data removed]",
      "text/plain": [
       "<matplotlib.figure.Figure at 0x7fa3186c6d30>"
      ]
     },
     "metadata": {},
     "output_type": "display_data"
    },
    {
     "name": "stdout",
     "output_type": "stream",
     "text": [
      "0th closest image\n",
      "distance from query image: 0.003\n"
     ]
    },
    {
     "data": {
      "image/png": "[encoded data removed]",
      "text/plain": [
       "<matplotlib.figure.Figure at 0x7fa31864c780>"
      ]
     },
     "metadata": {},
     "output_type": "display_data"
    },
    {
     "name": "stdout",
     "output_type": "stream",
     "text": [
      "1th closest image\n",
      "distance from query image: 0.003\n"
     ]
    },
    {
     "data": {
      "image/png": "[encoded data removed]",
      "text/plain": [
       "<matplotlib.figure.Figure at 0x7fa318753240>"
      ]
     },
     "metadata": {},
     "output_type": "display_data"
    },
    {
     "name": "stdout",
     "output_type": "stream",
     "text": [
      "2th closest image\n",
      "distance from query image: 0.003\n"
     ]
    },
    {
     "data": {
      "image/png": "[encoded data removed]",
      "text/plain": [
       "<matplotlib.figure.Figure at 0x7fa31875b518>"
      ]
     },
     "metadata": {},
     "output_type": "display_data"
    },
    {
     "name": "stdout",
     "output_type": "stream",
     "text": [
      "3th closest image\n",
      "distance from query image: 0.003\n"
     ]
    },
    {
     "data": {
      "image/png": "[encoded data removed]",
      "text/plain": [
       "<matplotlib.figure.Figure at 0x7fa31870fd68>"
      ]
     },
     "metadata": {},
     "output_type": "display_data"
    },
    {
     "name": "stdout",
     "output_type": "stream",
     "text": [
      "4th closest image\n",
      "distance from query image: 0.003\n"
     ]
    },
    {
     "data": {
      "image/png": "[encoded data removed]",
      "text/plain": [
       "<matplotlib.figure.Figure at 0x7fa318727fd0>"
      ]
     },
     "metadata": {},
     "output_type": "display_data"
    },
    {
     "name": "stdout",
     "output_type": "stream",
     "text": [
      "5th closest image\n",
      "distance from query image: 0.003\n"
     ]
    },
    {
     "data": {
      "image/png": "[encoded data removed]",
      "text/plain": [
       "<matplotlib.figure.Figure at 0x7fa3107eecc0>"
      ]
     },
     "metadata": {},
     "output_type": "display_data"
    },
    {
     "name": "stdout",
     "output_type": "stream",
     "text": [
      "6th closest image\n",
      "distance from query image: 0.003\n"
     ]
    },
    {
     "data": {
      "image/png": "[encoded data removed]",
      "text/plain": [
       "<matplotlib.figure.Figure at 0x7fa310707f98>"
      ]
     },
     "metadata": {},
     "output_type": "display_data"
    },
    {
     "name": "stdout",
     "output_type": "stream",
     "text": [
      "7th closest image\n",
      "distance from query image: 0.003\n"
     ]
    },
    {
     "data": {
      "image/png": "[encoded data removed]",
      "text/plain": [
       "<matplotlib.figure.Figure at 0x7fa3106cfb70>"
      ]
     },
     "metadata": {},
     "output_type": "display_data"
    },
    {
     "name": "stdout",
     "output_type": "stream",
     "text": [
      "8th closest image\n",
      "distance from query image: 0.164\n"
     ]
    },
    {
     "data": {
      "image/png": "[encoded data removed]",
      "text/plain": [
       "<matplotlib.figure.Figure at 0x7fa31069cb00>"
      ]
     },
     "metadata": {},
     "output_type": "display_data"
    },
    {
     "name": "stdout",
     "output_type": "stream",
     "text": [
      "9th closest image\n",
      "distance from query image: 0.988\n"
     ]
    },
    {
     "data": {
      "image/png": "[encoded data removed]",
      "text/plain": [
       "<matplotlib.figure.Figure at 0x7fa310640eb8>"
      ]
     },
     "metadata": {},
     "output_type": "display_data"
    }
   ],
   "source": [
    "print('Queried example')\n",
    "plot_image(X_test_images[query_example_index])\n",
    "\n",
    "# drop first example (it is the same as query example)\n",
    "truncated_results = zip(neighbor_indices[1:], neighbor_distances[1:])\n",
    "\n",
    "for i, (neighbor_index, distance) in enumerate(truncated_results):\n",
    "    print('{}th closest image'.format(i))\n",
    "    print('distance from query image: {:.3f}'.format(distance))\n",
    "    plot_image(X_test_images[neighbor_index])"
   ]
  }
 ],
 "metadata": {
  "kernelspec": {
   "display_name": "nnets",
   "language": "python",
   "name": "nnets"
  },
  "language_info": {
   "codemirror_mode": {
    "name": "ipython",
    "version": 3
   },
   "file_extension": ".py",
   "mimetype": "text/x-python",
   "name": "python",
   "nbconvert_exporter": "python",
   "pygments_lexer": "ipython3",
   "version": "3.6.5"
  }
 },
 "nbformat": 4,
 "nbformat_minor": 2
}
