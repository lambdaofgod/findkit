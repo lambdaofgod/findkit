{
 "cells": [
  {
   "cell_type": "markdown",
   "metadata": {
    "colab_type": "text",
    "id": "dg1gGlI5TqPd"
   },
   "source": [
    "## Music similarity search using ConvNet on STFT spectrograms\n",
    "\n",
    "Below example uses 4th model [(ConvNet on STFT spectrograms)](https://gitlab.crowdai.org/gg12/WWWMusicalGenreRecognitionChallenge) from [CrowdAI Learning to Recognize Musical Genre competition](crowdai.org/challenges/www-2018-challenge-learning-to-recognize-musical-genre) to extract features from music.\n",
    "\n",
    "Music comes from [GTZAN music dataset](http://marsyasweb.appspot.com/download/data_sets/)."
   ]
  },
  {
   "cell_type": "code",
   "execution_count": null,
   "metadata": {},
   "outputs": [],
   "source": [
    "# run this in case you use Google's Colab\n",
    "!pip install git+http://github.com/lambdaofgod/findkit\n",
    "!mkdir -p ../resources"
   ]
  },
  {
   "cell_type": "code",
   "execution_count": null,
   "metadata": {
    "colab": {},
    "colab_type": "code",
    "id": "MY6Qn4YPTqPi",
    "outputId": "f455b46c-d411-4450-baec-d272c1ccf0d3"
   },
   "outputs": [],
   "source": [
    "import numpy as np\n",
    "import scipy\n",
    "\n",
    "import librosa\n",
    "import librosa.display\n",
    "import glob\n",
    "import keras\n",
    "\n",
    "from findkit.feature_extractor import KerasFeatureExtractor\n",
    "from findkit.index import AnnoyIndex\n",
    "\n",
    "import matplotlib.pyplot as plt\n",
    "%matplotlib inline\n",
    "\n",
    "\n",
    "from IPython.display import Audio, display"
   ]
  },
  {
   "cell_type": "code",
   "execution_count": null,
   "metadata": {
    "colab": {},
    "colab_type": "code",
    "id": "XrytdxFNTqP0"
   },
   "outputs": [],
   "source": [
    "def stft3_quick(file_path):\n",
    "    res = []\n",
    "\n",
    "    Y, sr = librosa.load(file_path)\n",
    "\n",
    "    for i in np.arange(0.0, 9.5, 0.5):\n",
    "        y = Y[int(66150 * i):min(len(Y), int(66150 * (i + 1)))]\n",
    "        if y.shape[0] < 66150:\n",
    "            y = np.pad(y, (0, 66150 - y.shape[0]), 'constant')\n",
    "        res.append(np.abs(librosa.stft(y, n_fft=1024, window=scipy.signal.hann, hop_length=512))[:, :128].T)\n",
    "    res = np.array(res)\n",
    "    return res, file_path\n",
    "\n",
    "\n",
    "def stft3_quick_iter(paths):\n",
    "    for p in paths:\n",
    "        stft, path = stft3_quick(p)\n",
    "        yield np.expand_dims(stft, -1)\n",
    "\n",
    "\n",
    "def truncate_keras_model(model, layer_name):\n",
    "    output = model.get_layer(layer_name).output\n",
    "    return keras.models.Model(model.input, output)\n",
    "\n",
    "\n",
    "def play_track(path):\n",
    "    track, fs = librosa.load(path)\n",
    "    librosa.output.write_wav('/tmp/example.wav', track, fs)\n",
    "    print(path)\n",
    "    display(Audio('/tmp/example.wav'))\n",
    "    \n",
    "\n",
    "def display_track(path):\n",
    "    track, fs = librosa.load(path)\n",
    "    librosa.output.write_wav('/tmp/example.wav', track, fs)\n",
    "    print(path)\n",
    "    display(Audio('/tmp/example.wav'))\n",
    "    spec = librosa.stft(track, n_fft=1024)\n",
    "    librosa.display.specshow(np.abs(spec));"
   ]
  },
  {
   "cell_type": "markdown",
   "metadata": {
    "colab_type": "text",
    "id": "agWjSdSVTqP3"
   },
   "source": [
    "## Setup data"
   ]
  },
  {
   "cell_type": "code",
   "execution_count": null,
   "metadata": {
    "colab": {},
    "colab_type": "code",
    "id": "RuXSlZXeTqP5"
   },
   "outputs": [],
   "source": [
    "MODEL_PATH = '../resources/keras_genre_recognition_simple_model.h5'\n",
    "DATASET_PATH = '../resources/genres.tar.gz'"
   ]
  },
  {
   "cell_type": "code",
   "execution_count": null,
   "metadata": {
    "colab": {},
    "colab_type": "code",
    "id": "dsH3KtDYTqP-",
    "outputId": "3ea8e779-0276-4d83-e201-f661bb38eed4"
   },
   "outputs": [],
   "source": [
    "# Download GTZAN dataset\n",
    "!wget -nc http://opihi.cs.uvic.ca/sound/genres.tar.gz -O $DATASET_PATH\n",
    "!tar -xvf ../resources/genres.tar.gz -C ../resources\n",
    "# Download Keras model\n",
    "!wget -nc https://gitlab.crowdai.org/gg12/WWWMusicalGenreRecognitionChallenge/raw/master/best_rescnnqstft3_b128.h5 -O $MODEL_PATH"
   ]
  },
  {
   "cell_type": "markdown",
   "metadata": {
    "colab_type": "text",
    "id": "GiDjpX3RTqQC"
   },
   "source": [
    "## Setup model"
   ]
  },
  {
   "cell_type": "code",
   "execution_count": null,
   "metadata": {
    "colab": {},
    "colab_type": "code",
    "id": "52jK9NDyTqQD",
    "outputId": "8bc41e74-b3e2-4b84-9024-a1cc7a7d9e9a"
   },
   "outputs": [],
   "source": [
    "full_model = keras.models.load_model(MODEL_PATH)\n",
    "full_model.summary()"
   ]
  },
  {
   "cell_type": "code",
   "execution_count": null,
   "metadata": {
    "colab": {},
    "colab_type": "code",
    "id": "J6RtOKdNTqQI"
   },
   "outputs": [],
   "source": [
    "paths = glob.glob('../resources/**/*.au', recursive=True)"
   ]
  },
  {
   "cell_type": "markdown",
   "metadata": {
    "colab_type": "text",
    "id": "AUlwfi1bTqQL"
   },
   "source": [
    "## Play example track and display its STFT"
   ]
  },
  {
   "cell_type": "code",
   "execution_count": null,
   "metadata": {
    "colab": {},
    "colab_type": "code",
    "id": "5QuolBrBTqQM",
    "outputId": "70ab4c13-b5be-4f64-abe9-085a76e798f9"
   },
   "outputs": [],
   "source": [
    "example_path = paths[0]\n",
    "display_track(example_path)"
   ]
  },
  {
   "cell_type": "markdown",
   "metadata": {
    "colab_type": "text",
    "id": "cENmo-TTTqQV"
   },
   "source": [
    "### Extract features"
   ]
  },
  {
   "cell_type": "code",
   "execution_count": null,
   "metadata": {
    "colab": {},
    "colab_type": "code",
    "id": "S4L3rWFpTqQX"
   },
   "outputs": [],
   "source": [
    "model = truncate_keras_model(full_model, 'dense_2')\n",
    "feature_extractor = KerasFeatureExtractor(model)"
   ]
  },
  {
   "cell_type": "code",
   "execution_count": null,
   "metadata": {
    "colab": {},
    "colab_type": "code",
    "id": "y4sgVhaXTqQc"
   },
   "outputs": [],
   "source": [
    "%store -r features"
   ]
  },
  {
   "cell_type": "code",
   "execution_count": null,
   "metadata": {
    "colab": {},
    "colab_type": "code",
    "id": "y4sgVhaXTqQc"
   },
   "outputs": [],
   "source": [
    "features = feature_extractor.extract_features_generator(stft3_quick_iter(paths), steps=1000, verbose=1, use_multiprocessing=True)\n",
    "%store features"
   ]
  },
  {
   "cell_type": "markdown",
   "metadata": {
    "colab_type": "text",
    "id": "AswP8rICTqQh"
   },
   "source": [
    "### Setup index"
   ]
  },
  {
   "cell_type": "code",
   "execution_count": null,
   "metadata": {
    "colab": {},
    "colab_type": "code",
    "id": "qb_PIr6kTqQi"
   },
   "outputs": [],
   "source": [
    "index = AnnoyIndex(features, 50, metric='angular')"
   ]
  },
  {
   "cell_type": "code",
   "execution_count": null,
   "metadata": {
    "colab": {},
    "colab_type": "code",
    "id": "_HBYajp1TqQl"
   },
   "outputs": [],
   "source": [
    "indices, distances = index.find_similar(features[0], 5)"
   ]
  },
  {
   "cell_type": "code",
   "execution_count": null,
   "metadata": {
    "colab": {},
    "colab_type": "code",
    "id": "qY-SNnA8TqQo",
    "outputId": "17d485b1-47d5-4c52-cd95-ef61a9eaafde"
   },
   "outputs": [],
   "source": [
    "for i, dist in zip(indices, distances):\n",
    "    print('distance: ', dist)\n",
    "    play_track(paths[i // 19])"
   ]
  }
 ],
 "metadata": {
  "colab": {
   "name": "Music similarity search using ConvNet on STFT spectrograms.ipynb",
   "provenance": [],
   "version": "0.3.2"
  },
  "kernelspec": {
   "display_name": "Python 3",
   "language": "python",
   "name": "python3"
  },
  "language_info": {
   "codemirror_mode": {
    "name": "ipython",
    "version": 3
   },
   "file_extension": ".py",
   "mimetype": "text/x-python",
   "name": "python",
   "nbconvert_exporter": "python",
   "pygments_lexer": "ipython3",
   "version": "3.6.4"
  }
 },
 "nbformat": 4,
 "nbformat_minor": 1
}
